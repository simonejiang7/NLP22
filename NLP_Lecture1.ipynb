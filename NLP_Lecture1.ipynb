{
  "nbformat": 4,
  "nbformat_minor": 0,
  "metadata": {
    "colab": {
      "name": "NLP-Lecture1.ipynb",
      "provenance": [],
      "collapsed_sections": [],
      "authorship_tag": "ABX9TyPdE8k6f73VXKfpo/tQ0TVy"
    },
    "kernelspec": {
      "name": "python3",
      "display_name": "Python 3"
    },
    "language_info": {
      "name": "python"
    }
  },
  "cells": [
    {
      "cell_type": "code",
      "execution_count": null,
      "metadata": {
        "id": "r25zoOd3pCXT"
      },
      "outputs": [],
      "source": [
        "from nltk.util import pr\n",
        "import nltk\n",
        "nltk.download('wordnet')\n",
        "\n",
        "from nltk.corpus import wordnet as wn\n",
        "poses = {'n':'noun','v':'verb','s':'adj(s)','a':'adj','r':'adv'}\n",
        "for synset in wn.synsets(\"good\"):\n",
        "    print(\"{}: {}\".format(poses[synset.pos()],\n",
        "            \", \".join([l.name() for l in synset.lemmas()])))"
      ]
    },
    {
      "cell_type": "code",
      "source": [
        "from nltk.corpus import wordnet as wn\n",
        "panda = wn.synset(\"panda.n.01\")\n",
        "hyper = lambda s: s.hypernyms()\n",
        "list(panda.closure(hyper))"
      ],
      "metadata": {
        "id": "xACE4VQ90dui"
      },
      "execution_count": null,
      "outputs": []
    }
  ]
}