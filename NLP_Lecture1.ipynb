{
  "nbformat": 4,
  "nbformat_minor": 0,
  "metadata": {
    "colab": {
      "name": "NLP-Lecture1.ipynb",
      "provenance": [],
      "collapsed_sections": [],
      "authorship_tag": "ABX9TyOczNBtUNBsMU3lRdntsM2g",
      "include_colab_link": true
    },
    "kernelspec": {
      "name": "python3",
      "display_name": "Python 3"
    },
    "language_info": {
      "name": "python"
    }
  },
  "cells": [
    {
      "cell_type": "markdown",
      "metadata": {
        "id": "view-in-github",
        "colab_type": "text"
      },
      "source": [
        "<a href=\"https://colab.research.google.com/github/simonejiang7/NLP22/blob/main/NLP_Lecture1.ipynb\" target=\"_parent\"><img src=\"https://colab.research.google.com/assets/colab-badge.svg\" alt=\"Open In Colab\"/></a>"
      ]
    },
    {
      "cell_type": "code",
      "execution_count": 6,
      "metadata": {
        "colab": {
          "base_uri": "https://localhost:8080/"
        },
        "id": "r25zoOd3pCXT",
        "outputId": "ff655b55-a2db-4a51-c97e-498e9ac802f1"
      },
      "outputs": [
        {
          "output_type": "stream",
          "name": "stdout",
          "text": [
            "[nltk_data] Downloading package wordnet to /root/nltk_data...\n",
            "[nltk_data]   Unzipping corpora/wordnet.zip.\n",
            "noun: good\n",
            "noun: good, goodness\n",
            "noun: good, goodness\n",
            "noun: commodity, trade_good, good\n",
            "adj: good\n",
            "adj(s): full, good\n",
            "adj: good\n",
            "adj(s): estimable, good, honorable, respectable\n",
            "adj(s): beneficial, good\n",
            "adj(s): good\n",
            "adj(s): good, just, upright\n",
            "adj(s): adept, expert, good, practiced, proficient, skillful, skilful\n",
            "adj(s): good\n",
            "adj(s): dear, good, near\n",
            "adj(s): dependable, good, safe, secure\n",
            "adj(s): good, right, ripe\n",
            "adj(s): good, well\n",
            "adj(s): effective, good, in_effect, in_force\n",
            "adj(s): good\n",
            "adj(s): good, serious\n",
            "adj(s): good, sound\n",
            "adj(s): good, salutary\n",
            "adj(s): good, honest\n",
            "adj(s): good, undecomposed, unspoiled, unspoilt\n",
            "adj(s): good\n",
            "adv: well, good\n",
            "adv: thoroughly, soundly, good\n"
          ]
        }
      ],
      "source": [
        "import nltk\n",
        "nltk.download('wordnet')\n",
        "\n",
        "from nltk.corpus import wordnet as wn\n",
        "poses = {'n':'noun','v':'verb','s':'adj(s)','a':'adj','r':'adv'}\n",
        "for synset in wn.synsets(\"good\"):\n",
        "    print(\"{}: {}\".format(poses[synset.pos()],\n",
        "            \", \".join([l.name() for l in synset.lemmas()])))\n",
        "    "
      ]
    }
  ]
}