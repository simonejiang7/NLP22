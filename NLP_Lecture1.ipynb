{
  "nbformat": 4,
  "nbformat_minor": 0,
  "metadata": {
    "colab": {
      "name": "NLP-Lecture1.ipynb",
      "provenance": [],
      "collapsed_sections": [],
      "authorship_tag": "ABX9TyPdE8k6f73VXKfpo/tQ0TVy"
    },
    "kernelspec": {
      "name": "python3",
      "display_name": "Python 3"
    },
    "language_info": {
      "name": "python"
    }
  },
  "cells": [
    {
      "cell_type": "code",
      "execution_count": 2,
      "metadata": {
        "colab": {
          "base_uri": "https://localhost:8080/"
        },
        "id": "r25zoOd3pCXT",
        "outputId": "65ab9666-ffaa-426e-f059-73961451d066"
      },
      "outputs": [
        {
          "output_type": "stream",
          "name": "stdout",
          "text": [
            "[nltk_data] Downloading package wordnet to /root/nltk_data...\n",
            "[nltk_data]   Package wordnet is already up-to-date!\n",
            "noun: good\n",
            "noun: good, goodness\n",
            "noun: good, goodness\n",
            "noun: commodity, trade_good, good\n",
            "adj: good\n",
            "adj(s): full, good\n",
            "adj: good\n",
            "adj(s): estimable, good, honorable, respectable\n",
            "adj(s): beneficial, good\n",
            "adj(s): good\n",
            "adj(s): good, just, upright\n",
            "adj(s): adept, expert, good, practiced, proficient, skillful, skilful\n",
            "adj(s): good\n",
            "adj(s): dear, good, near\n",
            "adj(s): dependable, good, safe, secure\n",
            "adj(s): good, right, ripe\n",
            "adj(s): good, well\n",
            "adj(s): effective, good, in_effect, in_force\n",
            "adj(s): good\n",
            "adj(s): good, serious\n",
            "adj(s): good, sound\n",
            "adj(s): good, salutary\n",
            "adj(s): good, honest\n",
            "adj(s): good, undecomposed, unspoiled, unspoilt\n",
            "adj(s): good\n",
            "adv: well, good\n",
            "adv: thoroughly, soundly, good\n",
            "noun:good\n",
            "noun:good,goodness\n",
            "noun:good,goodness\n",
            "noun:commodity,trade_good,good\n",
            "adj:good\n",
            "adj(s):full,good\n",
            "adj:good\n",
            "adj(s):estimable,good,honorable,respectable\n",
            "adj(s):beneficial,good\n",
            "adj(s):good\n",
            "adj(s):good,just,upright\n",
            "adj(s):adept,expert,good,practiced,proficient,skillful,skilful\n",
            "adj(s):good\n",
            "adj(s):dear,good,near\n",
            "adj(s):dependable,good,safe,secure\n",
            "adj(s):good,right,ripe\n",
            "adj(s):good,well\n",
            "adj(s):effective,good,in_effect,in_force\n",
            "adj(s):good\n",
            "adj(s):good,serious\n",
            "adj(s):good,sound\n",
            "adj(s):good,salutary\n",
            "adj(s):good,honest\n",
            "adj(s):good,undecomposed,unspoiled,unspoilt\n",
            "adj(s):good\n",
            "adv:well,good\n",
            "adv:thoroughly,soundly,good\n"
          ]
        }
      ],
      "source": [
        "from nltk.util import pr\n",
        "import nltk\n",
        "nltk.download('wordnet')\n",
        "\n",
        "from nltk.corpus import wordnet as wn\n",
        "poses = {'n':'noun','v':'verb','s':'adj(s)','a':'adj','r':'adv'}\n",
        "for synset in wn.synsets(\"good\"):\n",
        "    print(\"{}: {}\".format(poses[synset.pos()],\n",
        "            \", \".join([l.name() for l in synset.lemmas()])))"
      ]
    },
    {
      "cell_type": "code",
      "source": [
        "from nltk.corpus import wordnet as wn\n",
        "panda = wn.synset(\"panda.n.01\")\n",
        "hyper = lambda s: s.hypernyms()\n",
        "list(panda.closure(hyper))"
      ],
      "metadata": {
        "id": "xACE4VQ90dui",
        "outputId": "b0f094ee-40ae-41b0-a481-2939939c38dc",
        "colab": {
          "base_uri": "https://localhost:8080/"
        }
      },
      "execution_count": 5,
      "outputs": [
        {
          "output_type": "execute_result",
          "data": {
            "text/plain": [
              "[Synset('procyonid.n.01'),\n",
              " Synset('carnivore.n.01'),\n",
              " Synset('placental.n.01'),\n",
              " Synset('mammal.n.01'),\n",
              " Synset('vertebrate.n.01'),\n",
              " Synset('chordate.n.01'),\n",
              " Synset('animal.n.01'),\n",
              " Synset('organism.n.01'),\n",
              " Synset('living_thing.n.01'),\n",
              " Synset('whole.n.02'),\n",
              " Synset('object.n.01'),\n",
              " Synset('physical_entity.n.01'),\n",
              " Synset('entity.n.01')]"
            ]
          },
          "metadata": {},
          "execution_count": 5
        }
      ]
    }
  ]
}